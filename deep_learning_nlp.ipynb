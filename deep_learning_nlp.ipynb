{
 "cells": [
  {
   "cell_type": "markdown",
   "metadata": {},
   "source": [
    "# First, read original data sets."
   ]
  },
  {
   "cell_type": "code",
   "execution_count": 1,
   "metadata": {
    "collapsed": true
   },
   "outputs": [],
   "source": [
    "from os.path import join as path_join\n",
    "import numpy as np\n",
    "\n",
    "# 'From Group to Individual Labels using Deep Features', Kotzias et. al,. KDD 2015\n",
    "DATA_SET_FOLDER = 'sentiment-labelled-sentences'\n",
    "\n",
    "AMAZON_CELLS_LABELLED = path_join(DATA_SET_FOLDER, 'amazon_cells_labelled.txt')\n",
    "IMDB_LABELLED = path_join(DATA_SET_FOLDER, 'imdb_labelled.txt')\n",
    "YELP_LABELLED = path_join(DATA_SET_FOLDER, 'yelp_labelled.txt')"
   ]
  },
  {
   "cell_type": "code",
   "execution_count": 2,
   "metadata": {
    "collapsed": true
   },
   "outputs": [],
   "source": [
    "def load(file_name):\n",
    "    \"\"\"\n",
    "    Read txt file line by line and return lines as a list and sentiments as another list.\n",
    "    \"\"\"\n",
    "    with open(file_name, 'r') as f:\n",
    "        sentences_list = []\n",
    "        reviews_list = []\n",
    "        for line in f:\n",
    "            sentence, review = line.split('\\t')[:2]\n",
    "            # Remove leading and trailing characters, space here.\n",
    "            sentences_list.append(sentence.strip())\n",
    "            reviews_list.append(int(review.strip()))\n",
    "    return sentences_list, reviews_list"
   ]
  },
  {
   "cell_type": "code",
   "execution_count": 3,
   "metadata": {
    "collapsed": false
   },
   "outputs": [],
   "source": [
    "amazon_sentences_list, amazon_reviews_list = load(AMAZON_CELLS_LABELLED)"
   ]
  },
  {
   "cell_type": "code",
   "execution_count": 4,
   "metadata": {
    "collapsed": false
   },
   "outputs": [
    {
     "data": {
      "text/plain": [
       "(['So there is no way for me to plug it in here in the US unless I go by a converter.',\n",
       "  'Good case, Excellent value.',\n",
       "  'Great for the jawbone.',\n",
       "  'Tied to charger for conversations lasting more than 45 minutes.MAJOR PROBLEMS!!',\n",
       "  'The mic is great.',\n",
       "  'I have to jiggle the plug to get it to line up right to get decent volume.',\n",
       "  'If you have several dozen or several hundred contacts, then imagine the fun of sending each of them one by one.',\n",
       "  'If you are Razr owner...you must have this!',\n",
       "  'Needless to say, I wasted my money.',\n",
       "  'What a waste of money and time!.'],\n",
       " [0, 1, 1, 0, 1, 0, 0, 1, 0, 0])"
      ]
     },
     "execution_count": 4,
     "metadata": {},
     "output_type": "execute_result"
    }
   ],
   "source": [
    "amazon_sentences_list[:10], amazon_reviews_list[:10]"
   ]
  },
  {
   "cell_type": "code",
   "execution_count": 5,
   "metadata": {
    "collapsed": false
   },
   "outputs": [],
   "source": [
    "imdb_sentences_list, imdb_reviews_list = load(IMDB_LABELLED)"
   ]
  },
  {
   "cell_type": "code",
   "execution_count": 6,
   "metadata": {
    "collapsed": false
   },
   "outputs": [
    {
     "data": {
      "text/plain": [
       "(['A very, very, very slow-moving, aimless movie about a distressed, drifting young man.',\n",
       "  'Not sure who was more lost - the flat characters or the audience, nearly half of whom walked out.',\n",
       "  'Attempting artiness with black & white and clever camera angles, the movie disappointed - became even more ridiculous - as the acting was poor and the plot and lines almost non-existent.',\n",
       "  'Very little music or anything to speak of.',\n",
       "  'The best scene in the movie was when Gerardo is trying to find a song that keeps running through his head.',\n",
       "  \"The rest of the movie lacks art, charm, meaning... If it's about emptiness, it works I guess because it's empty.\",\n",
       "  'Wasted two hours.',\n",
       "  'Saw the movie today and thought it was a good effort, good messages for kids.',\n",
       "  'A bit predictable.',\n",
       "  'Loved the casting of Jimmy Buffet as the science teacher.'],\n",
       " [0, 0, 0, 0, 1, 0, 0, 1, 0, 1])"
      ]
     },
     "execution_count": 6,
     "metadata": {},
     "output_type": "execute_result"
    }
   ],
   "source": [
    "imdb_sentences_list[:10], imdb_reviews_list[:10]"
   ]
  },
  {
   "cell_type": "code",
   "execution_count": 7,
   "metadata": {
    "collapsed": true
   },
   "outputs": [],
   "source": [
    "yelp_sentences_list, yelp_reviews_list = load(YELP_LABELLED)"
   ]
  },
  {
   "cell_type": "code",
   "execution_count": 8,
   "metadata": {
    "collapsed": false
   },
   "outputs": [
    {
     "data": {
      "text/plain": [
       "(['Wow... Loved this place.',\n",
       "  'Crust is not good.',\n",
       "  'Not tasty and the texture was just nasty.',\n",
       "  'Stopped by during the late May bank holiday off Rick Steve recommendation and loved it.',\n",
       "  'The selection on the menu was great and so were the prices.',\n",
       "  'Now I am getting angry and I want my damn pho.',\n",
       "  \"Honeslty it didn't taste THAT fresh.)\",\n",
       "  'The potatoes were like rubber and you could tell they had been made up ahead of time being kept under a warmer.',\n",
       "  'The fries were great too.',\n",
       "  'A great touch.'],\n",
       " [1, 0, 0, 1, 1, 0, 0, 0, 1, 1])"
      ]
     },
     "execution_count": 8,
     "metadata": {},
     "output_type": "execute_result"
    }
   ],
   "source": [
    "yelp_sentences_list[:10], yelp_reviews_list[:10]"
   ]
  },
  {
   "cell_type": "markdown",
   "metadata": {},
   "source": [
    "# Second, combine all three data sets and split into train and test."
   ]
  },
  {
   "cell_type": "code",
   "execution_count": 9,
   "metadata": {
    "collapsed": false
   },
   "outputs": [],
   "source": [
    "from sklearn.model_selection import train_test_split\n",
    "\n",
    "raw_X = amazon_sentences_list + imdb_sentences_list + yelp_sentences_list\n",
    "raw_y = amazon_reviews_list + imdb_reviews_list + yelp_reviews_list\n",
    "\n",
    "# Randomly split data set into train (70%) and test (30%).\n",
    "raw_X_train, raw_X_test, y_train, y_test = train_test_split(raw_X, raw_y, test_size=0.3, random_state=99)"
   ]
  },
  {
   "cell_type": "code",
   "execution_count": 10,
   "metadata": {
    "collapsed": false
   },
   "outputs": [
    {
     "data": {
      "text/plain": [
       "(2100, 2100, 900, 900)"
      ]
     },
     "execution_count": 10,
     "metadata": {},
     "output_type": "execute_result"
    }
   ],
   "source": [
    "len(raw_X_train), len(y_train), len(raw_X_test), len(y_test)"
   ]
  },
  {
   "cell_type": "code",
   "execution_count": 11,
   "metadata": {
    "collapsed": false
   },
   "outputs": [
    {
     "data": {
      "text/plain": [
       "(['This movie is well-balanced with comedy and drama and I thoroughly enjoyed myself.',\n",
       "  \"The instructions didn't explain that a microphone jack could be used.\",\n",
       "  \"If you haven't choked in your own vomit by the end (by all the cheap drama and worthless dialogue) you've must have bored yourself to death with this waste of time.\",\n",
       "  'MANNA FROM HEAVEN is a terrific film that is both predictable and unpredictable at the same time.',\n",
       "  'We had so much to say about the place before we walked in that he expected it to be amazing, but was quickly disappointed.',\n",
       "  'Just consider the excellent story, solid acting and look of the film as added bonuses.',\n",
       "  'Not good by any stretch of the imagination.',\n",
       "  'Service was fine and the waitress was friendly.',\n",
       "  'The scallop dish is quite appalling for value as well.',\n",
       "  \"This is hands down the best phone I've ever had.\"],\n",
       " [1, 0, 0, 1, 0, 1, 0, 1, 0, 1],\n",
       " ['Highly recommend for any one who has a blue tooth phone.',\n",
       "  'This particular model would not work with my Motorola Q smartphone.',\n",
       "  'Good show, Samsung.',\n",
       "  'The sound quality is good and functionality is awesome.',\n",
       "  \"So don't go there if you are looking for good food...\",\n",
       "  'The Buffet at Bellagio was far from what I anticipated.',\n",
       "  \"We thought you'd have to venture further away to get good sushi, but this place really hit the spot that night.\",\n",
       "  'If you want to wait for mediocre food and downright terrible service, then this is the place for you.',\n",
       "  'Everything about this film is simply incredible.',\n",
       "  'My sister has one also and she loves it.'],\n",
       " [1, 0, 1, 1, 0, 0, 1, 0, 1, 1])"
      ]
     },
     "execution_count": 11,
     "metadata": {},
     "output_type": "execute_result"
    }
   ],
   "source": [
    "raw_X_train[:10], y_train[:10], raw_X_test[:10], y_test[:10]"
   ]
  },
  {
   "cell_type": "markdown",
   "metadata": {},
   "source": [
    "## Remove non-letters."
   ]
  },
  {
   "cell_type": "code",
   "execution_count": 12,
   "metadata": {
    "collapsed": false
   },
   "outputs": [],
   "source": [
    "# Download nltk corpus whcih includes stop words.\n",
    "# Running this cell will automatically open a new window.\n",
    "# Choose 'All Packages' -> 'stopwords' and click 'Download'.\n",
    "# Finally, close the window.\n",
    "import nltk\n",
    "# TODO, uncomment fo first-time run.\n",
    "# nltk.download()\n",
    "# Or run 'python -m nltk.downloader stopwords' in shell."
   ]
  },
  {
   "cell_type": "code",
   "execution_count": 13,
   "metadata": {
    "collapsed": false
   },
   "outputs": [
    {
     "name": "stdout",
     "output_type": "stream",
     "text": [
      "deep learning makes nlp useful true\n",
      "['deep', 'learning', 'makes', 'nlp', 'useful', 'true']\n",
      "['deep', 'learning', 'makes', 'nlp', 'more', 'useful', 'it', 'is', 'true']\n"
     ]
    }
   ],
   "source": [
    "import re\n",
    "from nltk.corpus import stopwords\n",
    "\n",
    "def clean_sentence(sentence, return_sentence=True, remove_stopwords=True):\n",
    "    \"\"\"\n",
    "    Transform a sentence to lower case and\n",
    "    remove non-letters and optionally remove stopwords.\n",
    "    If return_sentence is True, return sentence as a string.\n",
    "    Otherwise, return as a list of words.\n",
    "    \"\"\"\n",
    "    # Replace non-letters with white space.\n",
    "    sentence_no_letters = re.sub('[^a-zA-Z]', ' ', sentence)\n",
    "    # Convert to lower case.\n",
    "    sentence_lower_case = sentence_no_letters.lower()\n",
    "    # Split sentence by white space, tab, newline, return, formfeed.\n",
    "    words = sentence_lower_case.split()\n",
    "    if remove_stopwords:\n",
    "        # Remove stop words. To make things simpler and reduce noise.\n",
    "        # Try without removing stopwords. Or try stemming!\n",
    "        udf_stopwords = set(stopwords.words('english'))\n",
    "    else:\n",
    "        udf_stopwords = None\n",
    "    no_stopwords = [word for word in words if not udf_stopwords or word not in udf_stopwords]\n",
    "    if return_sentence:\n",
    "        # From list of words to single string.\n",
    "        return ' '.join(no_stopwords)\n",
    "    else:\n",
    "        # Return a list of words\n",
    "        return no_stopwords\n",
    "\n",
    "\n",
    "# A simple test.\n",
    "print(clean_sentence('Deep learning makes NLP more USEFUL! It is True 124.'))\n",
    "print(clean_sentence('Deep learning makes NLP more USEFUL! It is True 124.',\n",
    "                     return_sentence=False))\n",
    "print(clean_sentence('Deep learning makes NLP more USEFUL! It is True 124.',\n",
    "                     return_sentence=False, remove_stopwords=False))"
   ]
  },
  {
   "cell_type": "markdown",
   "metadata": {},
   "source": [
    "# Third, compute bag of words on train set."
   ]
  },
  {
   "cell_type": "code",
   "execution_count": 14,
   "metadata": {
    "collapsed": false
   },
   "outputs": [
    {
     "data": {
      "text/plain": [
       "(['this movie is well balanced with comedy and drama and i thoroughly enjoyed myself',\n",
       "  'the instructions didn t explain that a microphone jack could be used',\n",
       "  'if you haven t choked in your own vomit by the end by all the cheap drama and worthless dialogue you ve must have bored yourself to death with this waste of time',\n",
       "  'manna from heaven is a terrific film that is both predictable and unpredictable at the same time',\n",
       "  'we had so much to say about the place before we walked in that he expected it to be amazing but was quickly disappointed',\n",
       "  'just consider the excellent story solid acting and look of the film as added bonuses',\n",
       "  'not good by any stretch of the imagination',\n",
       "  'service was fine and the waitress was friendly',\n",
       "  'the scallop dish is quite appalling for value as well',\n",
       "  'this is hands down the best phone i ve ever had'],\n",
       " [1, 0, 0, 1, 0, 1, 0, 1, 0, 1],\n",
       " ['highly recommend for any one who has a blue tooth phone',\n",
       "  'this particular model would not work with my motorola q smartphone',\n",
       "  'good show samsung',\n",
       "  'the sound quality is good and functionality is awesome',\n",
       "  'so don t go there if you are looking for good food',\n",
       "  'the buffet at bellagio was far from what i anticipated',\n",
       "  'we thought you d have to venture further away to get good sushi but this place really hit the spot that night',\n",
       "  'if you want to wait for mediocre food and downright terrible service then this is the place for you',\n",
       "  'everything about this film is simply incredible',\n",
       "  'my sister has one also and she loves it'],\n",
       " [1, 0, 1, 1, 0, 0, 1, 0, 1, 1])"
      ]
     },
     "execution_count": 14,
     "metadata": {},
     "output_type": "execute_result"
    }
   ],
   "source": [
    "from functools import partial\n",
    "\n",
    "# Transform to lower case and Remove non-letters and stopwords.\n",
    "# Remove words that are less meaningful \n",
    "# It will reduce vocabulary size dramastically.\n",
    "# However, for logistic regression, it will produce a worse model.\n",
    "X_train = map(partial(clean_sentence, remove_stopwords=False), raw_X_train)\n",
    "X_test = map(partial(clean_sentence, remove_stopwords=False), raw_X_test)\n",
    "\n",
    "X_train[:10], y_train[:10], X_test[:10], y_test[:10]"
   ]
  },
  {
   "cell_type": "code",
   "execution_count": 15,
   "metadata": {
    "collapsed": false
   },
   "outputs": [
    {
     "data": {
      "text/plain": [
       "(<2100x4054 sparse matrix of type '<type 'numpy.int64'>'\n",
       " \twith 21866 stored elements in Compressed Sparse Row format>,\n",
       " 4054,\n",
       " [u'aailiyah', u'abhor', u'ability', u'able', u'about', u'above'])"
      ]
     },
     "execution_count": 15,
     "metadata": {},
     "output_type": "execute_result"
    }
   ],
   "source": [
    "from sklearn.feature_extraction.text import CountVectorizer\n",
    "\n",
    "# Simply leaving the arguments as empty is fine.\n",
    "vectorizer = CountVectorizer()\n",
    "\n",
    "# Compute vocabulary of train data and transform it to bag of words.\n",
    "X_train_bow = vectorizer.fit_transform(X_train)\n",
    "\n",
    "# Check fitted vocabulary dictionary.\n",
    "vocabulary = vectorizer.get_feature_names()\n",
    "vocabulary_size = len(vocabulary)\n",
    "X_train_bow, vocabulary_size, vocabulary[:6]"
   ]
  },
  {
   "cell_type": "markdown",
   "metadata": {},
   "source": [
    "# Fouth, transform test set and fit a classifier."
   ]
  },
  {
   "cell_type": "code",
   "execution_count": 16,
   "metadata": {
    "collapsed": false
   },
   "outputs": [
    {
     "data": {
      "text/plain": [
       "(<900x4054 sparse matrix of type '<type 'numpy.int64'>'\n",
       " \twith 8452 stored elements in Compressed Sparse Row format>, 8)"
      ]
     },
     "execution_count": 16,
     "metadata": {},
     "output_type": "execute_result"
    }
   ],
   "source": [
    "# Transform test set to bag of words.\n",
    "X_test_bow = vectorizer.transform(X_test)\n",
    "# Demonstrate element is count, not occurrence indicator.\n",
    "X_test_bow, np.max(X_test_bow)"
   ]
  },
  {
   "cell_type": "markdown",
   "metadata": {},
   "source": [
    "## Logistic regression."
   ]
  },
  {
   "cell_type": "code",
   "execution_count": 17,
   "metadata": {
    "collapsed": false
   },
   "outputs": [
    {
     "name": "stdout",
     "output_type": "stream",
     "text": [
      "ground truth, predictions on default threshold, prediction probabilities\n"
     ]
    },
    {
     "data": {
      "text/plain": [
       "([1, 0, 1, 1, 0, 0, 1, 0, 1, 1, 1, 0, 1, 1, 0, 0, 1, 1, 0, 1],\n",
       " [1, 0, 1, 1, 0, 0, 1, 0, 1, 1, 1, 1, 1, 1, 1, 0, 1, 1, 0, 1],\n",
       " array([ 1.65828242, -2.63769067,  1.21343956,  4.61733549, -1.25440738,\n",
       "        -1.43457675,  2.19812722, -3.22527992,  2.49086451,  1.66220455,\n",
       "         1.80753189,  0.18994867,  1.06550332,  4.57109158,  0.43211265,\n",
       "        -2.81319491,  0.24646594,  2.15407803, -1.53610767,  2.86696619]))"
      ]
     },
     "execution_count": 17,
     "metadata": {},
     "output_type": "execute_result"
    }
   ],
   "source": [
    "# Fit a logistic regression model on train set and make predictions on test data.\n",
    "from sklearn.linear_model import LogisticRegression\n",
    "\n",
    "log_reg = LogisticRegression(solver='lbfgs')\n",
    "\n",
    "# Train.\n",
    "log_reg.fit(X_train_bow, y_train)\n",
    "pred_train = log_reg.predict(X_train_bow)\n",
    "pred_prob_train = log_reg.decision_function(X_train_bow)\n",
    "# Test.\n",
    "pred_test = log_reg.predict(X_test_bow)\n",
    "pred_prob_test = log_reg.decision_function(X_test_bow)\n",
    "print('ground truth, predictions on default threshold, prediction probabilities')\n",
    "y_test[:20], pred_test[:20].tolist(), pred_prob_test[:20]"
   ]
  },
  {
   "cell_type": "code",
   "execution_count": 18,
   "metadata": {
    "collapsed": false
   },
   "outputs": [
    {
     "name": "stdout",
     "output_type": "stream",
     "text": [
      "Train accuracy on default threshold: 0.977619047619\n",
      "area under curve: 0.995706118554\n",
      "Test accuracy on default threshold: 0.82\n",
      "area under curve: 0.892611815367\n"
     ]
    }
   ],
   "source": [
    "# Compute classification performance.\n",
    "from sklearn.metrics import accuracy_score, roc_auc_score, roc_curve\n",
    "\n",
    "train_accuracy = accuracy_score(y_train, pred_train)\n",
    "test_accuracy = accuracy_score(y_test, pred_test)\n",
    "train_auc = roc_auc_score(y_train, pred_prob_train)\n",
    "test_auc = roc_auc_score(y_test, pred_prob_test)\n",
    "test_fpr, test_tpr, thresholds = roc_curve(y_test, pred_prob_test)\n",
    "\n",
    "print('Train accuracy on default threshold: {}\\narea under curve: {}'.format(train_accuracy, train_auc))\n",
    "print('Test accuracy on default threshold: {}\\narea under curve: {}'.format(test_accuracy, test_auc))"
   ]
  },
  {
   "cell_type": "code",
   "execution_count": 19,
   "metadata": {
    "collapsed": false
   },
   "outputs": [
    {
     "data": {
      "image/png": "[encoded data removed]",
      "text/plain": [
       "<matplotlib.figure.Figure at 0x7f627a0e1410>"
      ]
     },
     "metadata": {},
     "output_type": "display_data"
    }
   ],
   "source": [
    "# Plot roc.\n",
    "import matplotlib.pylab as plt\n",
    "\n",
    "def plot_auc(fpr, tpr):\n",
    "    figure, ax = plt.subplots(1)\n",
    "    ax.plot(fpr, tpr)\n",
    "    ax.plot([0.0, 1.0], [0.0, 1.0])\n",
    "    ax.set_xlabel('false positive rate')\n",
    "    ax.set_ylabel('true positive rate')\n",
    "    ax.set_xlim([0.0, 1.0])\n",
    "    ax.set_ylim([0.0, 1.0])\n",
    "    plt.show()\n",
    "\n",
    "plot_auc(test_fpr, test_tpr)"
   ]
  },
  {
   "cell_type": "markdown",
   "metadata": {},
   "source": [
    "## Support vector machine."
   ]
  },
  {
   "cell_type": "code",
   "execution_count": 20,
   "metadata": {
    "collapsed": false
   },
   "outputs": [
    {
     "name": "stdout",
     "output_type": "stream",
     "text": [
      "ground truth, predictions on default threshold, prediction probabilities\n"
     ]
    },
    {
     "data": {
      "text/plain": [
       "([1, 0, 1, 1, 0, 0, 1, 0, 1, 1, 1, 0, 1, 1, 0, 0, 1, 1, 0, 1],\n",
       " [1, 0, 1, 1, 0, 0, 1, 0, 1, 1, 1, 0, 0, 1, 1, 0, 1, 1, 0, 1],\n",
       " array([ 0.32125453, -0.90261352,  0.84132678,  1.50155935, -0.3143413 ,\n",
       "        -0.95283443,  0.19351253, -0.52335077,  0.50071088,  0.94522789,\n",
       "         0.32869754, -0.19940717, -0.11342933,  0.63613904,  0.07898237,\n",
       "        -1.31081585,  0.07816099,  0.56349722, -1.10091062,  0.20735569]))"
      ]
     },
     "execution_count": 20,
     "metadata": {},
     "output_type": "execute_result"
    }
   ],
   "source": [
    "# Fit an svc model on train set and make predictions on test data.\n",
    "from sklearn.svm import SVC\n",
    "\n",
    "svc = SVC(C=5, gamma=0.1, probability=True, decision_function_shape='ovr')\n",
    "\n",
    "# Train.\n",
    "svc.fit(X_train_bow, y_train)\n",
    "pred_train = svc.predict(X_train_bow)\n",
    "pred_prob_train = svc.decision_function(X_train_bow)\n",
    "# Test.\n",
    "pred_test = svc.predict(X_test_bow)\n",
    "pred_prob_test = svc.decision_function(X_test_bow)\n",
    "print('ground truth, predictions on default threshold, prediction probabilities')\n",
    "y_test[:20], pred_test[:20].tolist(), pred_prob_test[:20]"
   ]
  },
  {
   "cell_type": "code",
   "execution_count": 21,
   "metadata": {
    "collapsed": false
   },
   "outputs": [
    {
     "name": "stdout",
     "output_type": "stream",
     "text": [
      "Train accuracy on default threshold: 0.998095238095\n",
      "area under curve: 1.0\n",
      "Test accuracy on default threshold: 0.807777777778\n",
      "area under curve: 0.890888350066\n"
     ]
    },
    {
     "data": {
      "image/png": "[encoded data removed]",
      "text/plain": [
       "<matplotlib.figure.Figure at 0x7f627a9b44d0>"
      ]
     },
     "metadata": {},
     "output_type": "display_data"
    }
   ],
   "source": [
    "# Compute classification performance.\n",
    "from sklearn.metrics import accuracy_score, roc_auc_score, roc_curve\n",
    "\n",
    "train_accuracy = accuracy_score(y_train, pred_train)\n",
    "test_accuracy = accuracy_score(y_test, pred_test)\n",
    "train_auc = roc_auc_score(y_train, pred_prob_train)\n",
    "test_auc = roc_auc_score(y_test, pred_prob_test)\n",
    "test_fpr, test_tpr, thresholds = roc_curve(y_test, pred_prob_test)\n",
    "\n",
    "print('Train accuracy on default threshold: {}\\narea under curve: {}'.format(train_accuracy, train_auc))\n",
    "print('Test accuracy on default threshold: {}\\narea under curve: {}'.format(test_accuracy, test_auc))\n",
    "\n",
    "plot_auc(test_fpr, test_tpr)"
   ]
  },
  {
   "cell_type": "markdown",
   "metadata": {},
   "source": [
    "## Neural network."
   ]
  },
  {
   "cell_type": "code",
   "execution_count": 22,
   "metadata": {
    "collapsed": false
   },
   "outputs": [
    {
     "name": "stdout",
     "output_type": "stream",
     "text": [
      "Minimum test loss 2.29713225365 at step 1000, and training loss 6.10517236055e-06\n",
      "Maximal test auc 0.850016543292 at step 1000, and training auc 1.0\n",
      "Maximal test accuracy 0.773333333333 at step 1000, and training accuracy 1.0\n"
     ]
    }
   ],
   "source": [
    "import tensorflow as tf\n",
    "\n",
    "# Build computation graph.\n",
    "with tf.Graph().as_default() as g:\n",
    "    X = tf.placeholder(tf.float32, shape=[None, vocabulary_size])\n",
    "    y = tf.placeholder(tf.float32, shape=None)\n",
    "    with tf.name_scope('hiddel_layer_1'):\n",
    "        weights = tf.Variable(tf.truncated_normal([vocabulary_size, 1024]))\n",
    "        weights_reg_loss = tf.reduce_mean(tf.square(weights))\n",
    "        biases = tf.Variable(tf.zeros([1024]))\n",
    "        output = tf.matmul(X, weights) + biases\n",
    "        activation = tf.nn.relu(output)\n",
    "    \n",
    "    with tf.variable_scope('softmax'):\n",
    "        weights = tf.Variable(tf.truncated_normal([1024, 1]))\n",
    "        weights_reg_loss += tf.reduce_mean(tf.square(weights))\n",
    "        biases = tf.Variable(0.0)\n",
    "        final_output = tf.squeeze(tf.matmul(activation, weights), axis=1) + biases\n",
    "        pred_prob = tf.nn.sigmoid(final_output)\n",
    "        loss = tf.reduce_mean(tf.nn.sigmoid_cross_entropy_with_logits(labels=y, logits=final_output), axis=0)\n",
    "        final_loss = loss + weights_reg_loss * 0.01\n",
    "    \n",
    "    init_learning_rate = 0.01\n",
    "    opt = tf.train.RMSPropOptimizer(init_learning_rate)\n",
    "    train_op = opt.minimize(final_loss)\n",
    "\n",
    "    init_op = tf.global_variables_initializer()\n",
    "\n",
    "# Create a session to invoke computations.\n",
    "sess = tf.Session(graph=g)\n",
    "\n",
    "sess.run(init_op)\n",
    "\n",
    "# From sparse array to dense array.\n",
    "X_train_bow_arr = X_train_bow.toarray().astype(np.float32)\n",
    "X_test_bow_arr = X_test_bow.toarray().astype(np.float32)\n",
    "y_train_arr = np.array(y_train, dtype=np.float32)\n",
    "y_test_arr = np.array(y_test, dtype=np.float32)\n",
    "\n",
    "loss_train = []\n",
    "loss_test = []\n",
    "auc_train = []\n",
    "auc_test = []\n",
    "accuracy_train = []\n",
    "accuracy_test = []\n",
    "\n",
    "for step in xrange(1001):\n",
    "    if step % 100 == 0:\n",
    "        _, train_loss_val, train_pred_prob_val = sess.run([train_op, loss, pred_prob],\n",
    "                                                          feed_dict={X: X_train_bow_arr, y: y_train})\n",
    "        \n",
    "        loss_train.append(train_loss_val)\n",
    "        auc_train.append(roc_auc_score(y_train, train_pred_prob_val))\n",
    "        accuracy_train.append(accuracy_score(y_train, train_pred_prob_val >= 0.5))\n",
    "        # print('Step: {}, training loss: {}'.format(step, train_loss_val))\n",
    "        test_loss_val, test_pred_prob_val = sess.run([loss, pred_prob],\n",
    "                                                      feed_dict={X: X_test_bow_arr, y: y_test})\n",
    "        loss_test.append(test_loss_val)\n",
    "        auc_test.append(roc_auc_score(y_test, test_pred_prob_val))\n",
    "        accuracy_test.append(accuracy_score(y_test, test_pred_prob_val >= 0.5))\n",
    "        # print('Step: {}, test loss: {}'.format(step, test_loss_val))\n",
    "    else:\n",
    "        _ = sess.run(train_op, feed_dict={X: X_train_bow_arr, y: y_train})\n",
    "\n",
    "# Make some simple statistics.\n",
    "min_loss_test = min(loss_test)\n",
    "min_loss_test_idx = loss_test.index(min_loss_test)\n",
    "max_auc_test = max(auc_test)\n",
    "max_auc_test_idx = auc_test.index(max_auc_test)\n",
    "max_accuracy_test = max(accuracy_test)\n",
    "max_accuracy_test_idx = accuracy_test.index(max_accuracy_test)\n",
    "print('Minimum test loss {} at step {}, and training loss {}'.format(min_loss_test,\n",
    "                                                                     100 * min_loss_test_idx,\n",
    "                                                                     loss_train[min_loss_test_idx]))\n",
    "print('Maximal test auc {} at step {}, and training auc {}'.format(max_auc_test,\n",
    "                                                                  100 * max_auc_test_idx,\n",
    "                                                                  auc_train[max_auc_test_idx]))\n",
    "print('Maximal test accuracy {} at step {}, and training accuracy {}'.format(max_accuracy_test,\n",
    "                                                                             100 * max_accuracy_test_idx,\n",
    "                                                                             accuracy_train[max_accuracy_test_idx]))"
   ]
  },
  {
   "cell_type": "code",
   "execution_count": 23,
   "metadata": {
    "collapsed": false
   },
   "outputs": [
    {
     "data": {
      "image/png": "[encoded data removed]",
      "text/plain": [
       "<matplotlib.figure.Figure at 0x7f627660f850>"
      ]
     },
     "metadata": {},
     "output_type": "display_data"
    }
   ],
   "source": [
    "def plots(loss_train, loss_test, auc_train, auc_test, accuracy_train, accuracy_test):\n",
    "    figure, (ax1, ax2, ax3) = plt.subplots(1, 3)\n",
    "    # Plot loss.\n",
    "    ax1.plot(loss_train, label='train')\n",
    "    ax1.plot(loss_test, label='test')\n",
    "    ax1.legend()\n",
    "    ax1.set_ylabel('loss')\n",
    "    ax1.set_xlabel('train steps (X100)')\n",
    "    # Plot auc.\n",
    "    ax2.plot(auc_train, label='train')\n",
    "    ax2.plot(auc_test, label='test')\n",
    "    ax2.legend()\n",
    "    ax2.set_ylabel('auc')\n",
    "    ax2.set_xlabel('train steps (X100)')\n",
    "    # Plot accuracy.\n",
    "    ax3.plot(accuracy_train, label='train')\n",
    "    ax3.plot(accuracy_test, label='test')\n",
    "    ax3.legend()\n",
    "    ax3.set_ylabel('accuracy')\n",
    "    ax3.set_xlabel('train steps (X100)')\n",
    "\n",
    "    plt.show()\n",
    "\n",
    "plots(loss_train, loss_test, auc_train, auc_test, accuracy_train, accuracy_test)"
   ]
  },
  {
   "cell_type": "markdown",
   "metadata": {},
   "source": [
    "# Fifth, make use of Word2Vec"
   ]
  },
  {
   "cell_type": "markdown",
   "metadata": {},
   "source": [
    "## Countinuous bag of words or predictive word embedding."
   ]
  },
  {
   "cell_type": "code",
   "execution_count": 24,
   "metadata": {
    "collapsed": false
   },
   "outputs": [
    {
     "name": "stdout",
     "output_type": "stream",
     "text": [
      "[['movie', 'well', 'balanced', 'comedy', 'drama', 'thoroughly', 'enjoyed'],\n",
      " ['instructions', 'explain', 'microphone', 'jack', 'could', 'used']]\n",
      "[['highly', 'recommend', 'one', 'blue', 'tooth', 'phone'],\n",
      " ['particular', 'model', 'would', 'work', 'motorola', 'q', 'smartphone']]\n"
     ]
    }
   ],
   "source": [
    "from functools import partial\n",
    "import pprint\n",
    "\n",
    "\n",
    "# Map sentences to words.\n",
    "X_train_words = map(partial(clean_sentence, return_sentence=False, remove_stopwords=True), raw_X_train)\n",
    "X_test_words = map(partial(clean_sentence, return_sentence=False, remove_stopwords=True), raw_X_test)\n",
    "\n",
    "pp = pprint.PrettyPrinter(indent=1, width=120)\n",
    "pp.pprint(X_train_words[:2])\n",
    "pp.pprint(X_test_words[:2])"
   ]
  },
  {
   "cell_type": "code",
   "execution_count": 25,
   "metadata": {
    "collapsed": false
   },
   "outputs": [
    {
     "name": "stderr",
     "output_type": "stream",
     "text": [
      "2017-06-13 21:32:15,890 : INFO : collecting all words and their counts\n",
      "2017-06-13 21:32:15,891 : INFO : PROGRESS: at sentence #0, processed 0 words, keeping 0 word types\n",
      "2017-06-13 21:32:15,898 : INFO : collected 3939 word types from a corpus of 12474 raw words and 2100 sentences\n",
      "2017-06-13 21:32:15,899 : INFO : Loading a fresh vocabulary\n",
      "2017-06-13 21:32:15,913 : INFO : min_count=1 retains 3939 unique words (100% of original 3939, drops 0)\n",
      "2017-06-13 21:32:15,914 : INFO : min_count=1 leaves 12474 word corpus (100% of original 12474, drops 0)\n",
      "2017-06-13 21:32:15,933 : INFO : deleting the raw counts dictionary of 3939 items\n",
      "2017-06-13 21:32:15,935 : INFO : sample=0.001 downsamples 38 most-common words\n",
      "2017-06-13 21:32:15,936 : INFO : downsampling leaves estimated 11579 word corpus (92.8% of prior 12474)\n",
      "2017-06-13 21:32:15,937 : INFO : estimated required memory for 3939 words and 300 dimensions: 11423100 bytes\n",
      "2017-06-13 21:32:15,947 : INFO : resetting layer weights\n",
      "2017-06-13 21:32:16,015 : INFO : training model with 4 workers on 3939 vocabulary and 300 features, using sg=1 hs=0 sample=0.001 negative=20 window=5\n",
      "2017-06-13 21:32:17,032 : INFO : PROGRESS: at 50.71% examples, 115864 words/s, in_qsize 7, out_qsize 0\n",
      "2017-06-13 21:32:17,990 : INFO : worker thread finished; awaiting finish of 3 more threads\n",
      "2017-06-13 21:32:18,005 : INFO : worker thread finished; awaiting finish of 2 more threads\n",
      "2017-06-13 21:32:18,006 : INFO : worker thread finished; awaiting finish of 1 more threads\n",
      "2017-06-13 21:32:18,013 : INFO : worker thread finished; awaiting finish of 0 more threads\n",
      "2017-06-13 21:32:18,014 : INFO : training on 249480 raw words (231599 effective words) took 2.0s, 116048 effective words/s\n"
     ]
    },
    {
     "data": {
      "text/plain": [
       "(3939, 300)"
      ]
     },
     "execution_count": 25,
     "metadata": {},
     "output_type": "execute_result"
    }
   ],
   "source": [
    "from gensim.models.word2vec import Word2Vec\n",
    "import logging\n",
    "\n",
    "logging.basicConfig(format='%(asctime)s : %(levelname)s : %(message)s', level=logging.INFO)\n",
    "\n",
    "# sg, 0 for countinuous bag of words, 1 for skip-gram which works better for logistic regression here.\n",
    "model = Word2Vec(sentences=X_train_words, size=300, window=5, min_count=1,\n",
    "                 max_vocab_size=None, sample=0.001, workers=4,\n",
    "                 min_alpha=0.0001, sg=1, hs=0, negative=20, cbow_mean=1,\n",
    "                 iter=20, null_word=0, trim_rule=None, sorted_vocab=1, batch_words=1000)\n",
    "\n",
    "# syn0 is a numpy array that stores a feature vector for each word.\n",
    "model.wv.syn0.shape"
   ]
  },
  {
   "cell_type": "code",
   "execution_count": 26,
   "metadata": {
    "collapsed": false
   },
   "outputs": [
    {
     "data": {
      "text/plain": [
       "((300,),\n",
       " array([ 0.12181101, -0.04280083, -0.21245392, -0.11450065,  0.05007749,\n",
       "        -0.12880118, -0.06752747, -0.19197069,  0.08410849, -0.01657801], dtype=float32))"
      ]
     },
     "execution_count": 26,
     "metadata": {},
     "output_type": "execute_result"
    }
   ],
   "source": [
    "model['phone'].shape, model['phone'][:10]"
   ]
  },
  {
   "cell_type": "code",
   "execution_count": 27,
   "metadata": {
    "collapsed": false
   },
   "outputs": [
    {
     "data": {
      "text/plain": [
       "0.99292146561030181"
      ]
     },
     "execution_count": 27,
     "metadata": {},
     "output_type": "execute_result"
    }
   ],
   "source": [
    "# This doesn't make much sense.\n",
    "model.similarity('phone', 'good')"
   ]
  },
  {
   "cell_type": "markdown",
   "metadata": {},
   "source": [
    "# Transform sentence words to dense vector."
   ]
  },
  {
   "cell_type": "markdown",
   "metadata": {},
   "source": [
    "## Represent a sentence as mean of the vectors of its words."
   ]
  },
  {
   "cell_type": "code",
   "execution_count": 28,
   "metadata": {
    "collapsed": false
   },
   "outputs": [
    {
     "data": {
      "text/plain": [
       "(300,)"
      ]
     },
     "execution_count": 28,
     "metadata": {},
     "output_type": "execute_result"
    }
   ],
   "source": [
    "# First method - averaging words vectors.\n",
    "def ws2meanvec(words, embedding_model):\n",
    "    \"\"\"\n",
    "    Compute mean vector of a list of words.\n",
    "    \"\"\"\n",
    "    vectors = [embedding_model[w] for w in words if w in embedding_model]\n",
    "    if len(vectors) > 0:\n",
    "        return np.mean(vectors, axis=0)\n",
    "    else:\n",
    "        # To avoid empty words causing error. For example, raw sentence is 10/10 at imdb.\n",
    "        return np.zeros(embedding_model.vector_size, dtype=np.float32)\n",
    "\n",
    "ws2meanvec(['phone', 'good', 'work'], model).shape"
   ]
  },
  {
   "cell_type": "code",
   "execution_count": 29,
   "metadata": {
    "collapsed": false
   },
   "outputs": [
    {
     "data": {
      "text/plain": [
       "(array([ 0.15610416, -0.05606126, -0.2159145 , -0.12296281,  0.05785468,\n",
       "        -0.10106085, -0.06802104, -0.18052582,  0.08882451, -0.00321173], dtype=float32),\n",
       " array([ 0.161189  , -0.04263185, -0.22173673, -0.12244137,  0.05912674,\n",
       "        -0.11804243, -0.07963934, -0.18222256,  0.09119293,  0.01295353], dtype=float32))"
      ]
     },
     "execution_count": 29,
     "metadata": {},
     "output_type": "execute_result"
    }
   ],
   "source": [
    "X_train_cbow = map(partial(ws2meanvec, embedding_model=model), X_train_words)\n",
    "X_test_cbow = map(partial(ws2meanvec, embedding_model=model), X_test_words)\n",
    "X_train_cbow[0][:10], X_test_cbow[0][:10]"
   ]
  },
  {
   "cell_type": "code",
   "execution_count": 30,
   "metadata": {
    "collapsed": false
   },
   "outputs": [],
   "source": [
    "# Some test sentences don't have a word in the vocabulary.\n",
    "ensure_no_error = [len(e) for e in X_train_cbow]"
   ]
  },
  {
   "cell_type": "code",
   "execution_count": 31,
   "metadata": {
    "collapsed": false
   },
   "outputs": [
    {
     "name": "stdout",
     "output_type": "stream",
     "text": [
      "ground truth, predictions on default threshold, prediction probabilities\n"
     ]
    },
    {
     "data": {
      "text/plain": [
       "([1, 0, 1, 1, 0, 0, 1, 0, 1, 1, 1, 0, 1, 1, 0, 0, 1, 1, 0, 1],\n",
       " [1, 1, 1, 1, 1, 1, 1, 0, 1, 0, 1, 0, 0, 0, 0, 0, 1, 1, 0, 1],\n",
       " array([ 0.26391771,  0.28913893,  0.36542769,  1.85804354,  0.43771857,\n",
       "         0.59934859,  0.0592134 , -0.11441425,  0.06177486, -0.03211928,\n",
       "         0.13187559, -0.15628349, -0.25878999, -0.03729056, -0.37299931,\n",
       "        -0.93954224,  0.45756042,  0.07359714, -0.29783902,  0.07049611]))"
      ]
     },
     "execution_count": 31,
     "metadata": {},
     "output_type": "execute_result"
    }
   ],
   "source": [
    "# Fit a logistic regression model on train set and make predictions on test data.\n",
    "from sklearn.linear_model import LogisticRegression\n",
    "\n",
    "log_reg = LogisticRegression(C=10)\n",
    "\n",
    "# Train.\n",
    "log_reg.fit(X_train_cbow, y_train)\n",
    "# Test.\n",
    "pred_test = log_reg.predict(X_test_cbow)\n",
    "pred_prob_test = log_reg.decision_function(X_test_cbow)\n",
    "print('ground truth, predictions on default threshold, prediction probabilities')\n",
    "y_test[:20], pred_test[:20].tolist(), pred_prob_test[:20]"
   ]
  },
  {
   "cell_type": "code",
   "execution_count": 32,
   "metadata": {
    "collapsed": false
   },
   "outputs": [
    {
     "name": "stdout",
     "output_type": "stream",
     "text": [
      "accuracy on default threshold: 0.621111111111\n",
      "area under curve: 0.687065121309\n"
     ]
    },
    {
     "data": {
      "image/png": "[encoded data removed]",
      "text/plain": [
       "<matplotlib.figure.Figure at 0x7f62766e4410>"
      ]
     },
     "metadata": {},
     "output_type": "display_data"
    }
   ],
   "source": [
    "# Compute classification performance.\n",
    "from sklearn.metrics import accuracy_score, roc_auc_score, roc_curve\n",
    "\n",
    "accuracy = accuracy_score(y_test, pred_test)\n",
    "\n",
    "auc = roc_auc_score(y_test, pred_prob_test)\n",
    "\n",
    "fpr, tpr, thresholds = roc_curve(y_test, pred_prob_test)\n",
    "\n",
    "print('accuracy on default threshold: {}\\narea under curve: {}'.format(accuracy, auc))\n",
    "\n",
    "plot_auc(fpr, tpr)"
   ]
  },
  {
   "cell_type": "markdown",
   "metadata": {},
   "source": [
    "## Let's try transfer learning"
   ]
  },
  {
   "cell_type": "code",
   "execution_count": 33,
   "metadata": {
    "collapsed": false
   },
   "outputs": [
    {
     "name": "stderr",
     "output_type": "stream",
     "text": [
      "2017-06-13 21:32:18,503 : INFO : loading projection weights from ./GoogleNews-vectors-negative300.bin.gz\n",
      "2017-06-13 21:35:31,265 : INFO : loaded (3000000, 300) matrix from ./GoogleNews-vectors-negative300.bin.gz\n"
     ]
    },
    {
     "data": {
      "text/plain": [
       "(3000000, 300)"
      ]
     },
     "execution_count": 33,
     "metadata": {},
     "output_type": "execute_result"
    }
   ],
   "source": [
    "from gensim.models import KeyedVectors\n",
    "\n",
    "# Load google pre-trained model.\n",
    "# From http://mccormickml.com/2016/04/12/googles-pretrained-word2vec-model-in-python/\n",
    "google_model = KeyedVectors.load_word2vec_format('./GoogleNews-vectors-negative300.bin.gz', binary=True)\n",
    "google_model.syn0.shape"
   ]
  },
  {
   "cell_type": "code",
   "execution_count": 34,
   "metadata": {
    "collapsed": false
   },
   "outputs": [
    {
     "data": {
      "text/plain": [
       "0.074366691017249367"
      ]
     },
     "execution_count": 34,
     "metadata": {},
     "output_type": "execute_result"
    }
   ],
   "source": [
    "google_model.similarity('phone', 'good')"
   ]
  },
  {
   "cell_type": "code",
   "execution_count": 35,
   "metadata": {
    "collapsed": false
   },
   "outputs": [
    {
     "name": "stderr",
     "output_type": "stream",
     "text": [
      "2017-06-13 21:35:31,280 : INFO : precomputing L2-norms of word weight vectors\n"
     ]
    },
    {
     "data": {
      "text/plain": [
       "[(u'kings', 0.7138045430183411),\n",
       " (u'queen', 0.6510956287384033),\n",
       " (u'monarch', 0.6413193941116333),\n",
       " (u'crown_prince', 0.6204220056533813),\n",
       " (u'prince', 0.6159994006156921),\n",
       " (u'sultan', 0.5864824056625366),\n",
       " (u'ruler', 0.5797566771507263),\n",
       " (u'princes', 0.5646552443504333),\n",
       " (u'Prince_Paras', 0.543294370174408),\n",
       " (u'throne', 0.5422105193138123)]"
      ]
     },
     "execution_count": 35,
     "metadata": {},
     "output_type": "execute_result"
    }
   ],
   "source": [
    "google_model.most_similar('king')"
   ]
  },
  {
   "cell_type": "code",
   "execution_count": 36,
   "metadata": {
    "collapsed": false
   },
   "outputs": [
    {
     "data": {
      "text/plain": [
       "[(u'universities', 0.7003918886184692),\n",
       " (u'faculty', 0.6780906915664673),\n",
       " (u'unversity', 0.6758289933204651),\n",
       " (u'undergraduate', 0.6587094068527222),\n",
       " (u'univeristy', 0.6585439443588257),\n",
       " (u'campus', 0.6434986591339111),\n",
       " (u'college', 0.638526976108551),\n",
       " (u'academic', 0.6317198276519775),\n",
       " (u'professors', 0.6298649311065674),\n",
       " (u'undergraduates', 0.6149813532829285)]"
      ]
     },
     "execution_count": 36,
     "metadata": {},
     "output_type": "execute_result"
    }
   ],
   "source": [
    "google_model.most_similar('university')"
   ]
  },
  {
   "cell_type": "markdown",
   "metadata": {},
   "source": [
    "#### Represent a sentence as mean of the vectors of its words."
   ]
  },
  {
   "cell_type": "code",
   "execution_count": 37,
   "metadata": {
    "collapsed": false
   },
   "outputs": [
    {
     "data": {
      "text/plain": [
       "(array([-0.03456334,  0.0370745 , -0.11201695,  0.16207449, -0.00889369,\n",
       "        -0.02577427,  0.01097979,  0.00630406,  0.07080078,  0.00959996], dtype=float32),\n",
       " array([-0.01264445, -0.08089193,  0.04174805,  0.01407878, -0.16902669,\n",
       "         0.03644816,  0.06310526, -0.10062663,  0.11686198,  0.01391602], dtype=float32))"
      ]
     },
     "execution_count": 37,
     "metadata": {},
     "output_type": "execute_result"
    }
   ],
   "source": [
    "# Remove stopwords or not, please check previous cells.\n",
    "X_train_tl = np.array(map(partial(ws2meanvec, embedding_model=google_model), X_train_words))\n",
    "X_test_tl = np.array(map(partial(ws2meanvec, embedding_model=google_model), X_test_words))\n",
    "X_train_tl[0][:10], X_test_tl[0][:10]"
   ]
  },
  {
   "cell_type": "code",
   "execution_count": 38,
   "metadata": {
    "collapsed": false
   },
   "outputs": [
    {
     "name": "stdout",
     "output_type": "stream",
     "text": [
      "ground truth, predictions on default threshold, prediction probabilities\n"
     ]
    },
    {
     "data": {
      "text/plain": [
       "([1, 0, 1, 1, 0, 0, 1, 0, 1, 1, 1, 0, 1, 1, 0, 0, 1, 1, 0, 1],\n",
       " [1, 1, 1, 1, 0, 0, 0, 0, 1, 1, 1, 0, 0, 1, 0, 0, 1, 1, 0, 0],\n",
       " array([ 1.10976065,  0.57030594,  2.54076074,  3.00765064, -0.3820346 ,\n",
       "        -0.26290903, -0.25651127, -3.05186962,  1.99199124,  2.74571328,\n",
       "         0.39430714, -0.89937996, -0.55053778,  2.9119668 , -2.02392607,\n",
       "        -2.53171542,  1.31356882,  2.44599221, -3.08721885, -0.87593437]))"
      ]
     },
     "execution_count": 38,
     "metadata": {},
     "output_type": "execute_result"
    }
   ],
   "source": [
    "# Fit a logistic regression model on train set and make predictions on test data.\n",
    "from sklearn.linear_model import LogisticRegression\n",
    "\n",
    "log_reg = LogisticRegression(solver='lbfgs')\n",
    "\n",
    "# Train.\n",
    "log_reg.fit(X_train_tl, y_train)\n",
    "# Test.\n",
    "pred_test = log_reg.predict(X_test_tl)\n",
    "pred_prob_test = log_reg.decision_function(X_test_tl)\n",
    "print('ground truth, predictions on default threshold, prediction probabilities')\n",
    "y_test[:20], pred_test[:20].tolist(), pred_prob_test[:20]"
   ]
  },
  {
   "cell_type": "code",
   "execution_count": 39,
   "metadata": {
    "collapsed": false
   },
   "outputs": [
    {
     "name": "stdout",
     "output_type": "stream",
     "text": [
      "accuracy on default threshold: 0.82\n",
      "area under curve: 0.903888414264\n"
     ]
    },
    {
     "data": {
      "image/png": "[encoded data removed]",
      "text/plain": [
       "<matplotlib.figure.Figure at 0x7f627a9b4890>"
      ]
     },
     "metadata": {},
     "output_type": "display_data"
    }
   ],
   "source": [
    "# Compute classification performance.\n",
    "from sklearn.metrics import accuracy_score, roc_auc_score, roc_curve\n",
    "\n",
    "accuracy = accuracy_score(y_test, pred_test)\n",
    "\n",
    "auc = roc_auc_score(y_test, pred_prob_test)\n",
    "\n",
    "fpr, tpr, thresholds = roc_curve(y_test, pred_prob_test)\n",
    "\n",
    "print('accuracy on default threshold: {}\\narea under curve: {}'.format(accuracy, auc))\n",
    "\n",
    "plot_auc(fpr, tpr)"
   ]
  },
  {
   "cell_type": "markdown",
   "metadata": {},
   "source": [
    "## Support vector machine."
   ]
  },
  {
   "cell_type": "code",
   "execution_count": 40,
   "metadata": {
    "collapsed": false
   },
   "outputs": [
    {
     "name": "stdout",
     "output_type": "stream",
     "text": [
      "ground truth, predictions on default threshold, prediction probabilities\n"
     ]
    },
    {
     "data": {
      "text/plain": [
       "([1, 0, 1, 1, 0, 0, 1, 0, 1, 1, 1, 0, 1, 1, 0, 0, 1, 1, 0, 1],\n",
       " [1, 1, 1, 1, 0, 0, 0, 0, 1, 1, 1, 0, 0, 1, 0, 0, 1, 1, 0, 0],\n",
       " array([ 0.788459  ,  0.26117121,  1.69120277,  2.17865987, -0.05390308,\n",
       "        -0.25132504, -0.11454365, -1.73419407,  1.08987599,  1.55242931,\n",
       "         0.30301341, -0.56123168, -0.41550107,  1.59683295, -1.46200424,\n",
       "        -1.35474506,  0.58426006,  1.0485971 , -1.88305036, -0.64584004]))"
      ]
     },
     "execution_count": 40,
     "metadata": {},
     "output_type": "execute_result"
    }
   ],
   "source": [
    "# Fit an svc model on train set and make predictions on test data.\n",
    "from sklearn.svm import SVC\n",
    "\n",
    "svc = SVC(C=1.0, gamma=0.1, probability=True, decision_function_shape='ovr')\n",
    "\n",
    "# Train.\n",
    "svc.fit(X_train_tl, y_train)\n",
    "pred_train = svc.predict(X_train_tl)\n",
    "pred_prob_train = svc.decision_function(X_train_tl)\n",
    "# Test.\n",
    "pred_test = svc.predict(X_test_tl)\n",
    "pred_prob_test = svc.decision_function(X_test_tl)\n",
    "print('ground truth, predictions on default threshold, prediction probabilities')\n",
    "y_test[:20], pred_test[:20].tolist(), pred_prob_test[:20]"
   ]
  },
  {
   "cell_type": "code",
   "execution_count": 41,
   "metadata": {
    "collapsed": false
   },
   "outputs": [
    {
     "name": "stdout",
     "output_type": "stream",
     "text": [
      "Train accuracy on default threshold: 0.857619047619\n",
      "area under curve: 0.928112406451\n",
      "Test accuracy on default threshold: 0.827777777778\n",
      "area under curve: 0.906490896251\n"
     ]
    },
    {
     "data": {
      "image/png": "[encoded data removed]",
      "text/plain": [
       "<matplotlib.figure.Figure at 0x7f627a988550>"
      ]
     },
     "metadata": {},
     "output_type": "display_data"
    }
   ],
   "source": [
    "# Compute classification performance.\n",
    "from sklearn.metrics import accuracy_score, roc_auc_score, roc_curve\n",
    "\n",
    "train_accuracy = accuracy_score(y_train, pred_train)\n",
    "test_accuracy = accuracy_score(y_test, pred_test)\n",
    "train_auc = roc_auc_score(y_train, pred_prob_train)\n",
    "test_auc = roc_auc_score(y_test, pred_prob_test)\n",
    "test_fpr, test_tpr, thresholds = roc_curve(y_test, pred_prob_test)\n",
    "\n",
    "print('Train accuracy on default threshold: {}\\narea under curve: {}'.format(train_accuracy, train_auc))\n",
    "print('Test accuracy on default threshold: {}\\narea under curve: {}'.format(test_accuracy, test_auc))\n",
    "\n",
    "plot_auc(test_fpr, test_tpr)"
   ]
  },
  {
   "cell_type": "code",
   "execution_count": null,
   "metadata": {
    "collapsed": true
   },
   "outputs": [],
   "source": []
  }
 ],
 "metadata": {
  "kernelspec": {
   "display_name": "Python 2",
   "language": "python",
   "name": "python2"
  },
  "language_info": {
   "codemirror_mode": {
    "name": "ipython",
    "version": 2
   },
   "file_extension": ".py",
   "mimetype": "text/x-python",
   "name": "python",
   "nbconvert_exporter": "python",
   "pygments_lexer": "ipython2",
   "version": "2.7.13"
  }
 },
 "nbformat": 4,
 "nbformat_minor": 2
}
